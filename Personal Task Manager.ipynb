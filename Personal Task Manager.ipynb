{
 "cells": [
  {
   "cell_type": "code",
   "execution_count": 1,
   "id": "81494e34-a986-4574-b387-17066058102d",
   "metadata": {},
   "outputs": [],
   "source": [
    "# importing the required modules  \n",
    "import tkinter as tk                     \n",
    "from tkinter import ttk                   \n",
    "from tkinter import messagebox           \n",
    "import sqlite3 as sql                   "
   ]
  },
  {
   "cell_type": "code",
   "execution_count": 3,
   "id": "8f1325bf-6f8b-473e-a4ff-161f6c22d0fe",
   "metadata": {},
   "outputs": [],
   "source": [
    "# defining the function to add tasks to the list \n",
    "def add_task():  \n",
    "    \n",
    "    task_string = task_field.get()  \n",
    "     \n",
    "    if len(task_string) == 0:  \n",
    "        messagebox.showinfo('Error', 'No task added !!.')  \n",
    "    else:    \n",
    "        tasks.append(task_string)   \n",
    "        the_cursor.execute('insert into tasks values (?)', (task_string ,))    \n",
    "        list_update()  \n",
    "        task_field.delete(0, 'end')  "
   ]
  },
  {
   "cell_type": "code",
   "execution_count": 4,
   "id": "bcf38f6f-ae02-4d7e-9ae4-378bc07f1712",
   "metadata": {},
   "outputs": [],
   "source": [
    "# defining the function to update the list  \n",
    "def list_update():  \n",
    "    clear_list()  \n",
    "    for task in tasks:  \n",
    "        task_listbox.insert('end', task)  "
   ]
  },
  {
   "cell_type": "code",
   "execution_count": 5,
   "id": "4351e0bf-9a74-4156-83cf-504bb8158c27",
   "metadata": {},
   "outputs": [],
   "source": [
    "# defining the function to delete a task from the list  \n",
    "def delete_task():  \n",
    "    try:  \n",
    "        the_value = task_listbox.get(task_listbox.curselection())  \n",
    "        if the_value in tasks:  \n",
    "            tasks.remove(the_value)   \n",
    "            list_update()  \n",
    "            the_cursor.execute('delete from tasks where title = ?', (the_value,))  \n",
    "    except:   \n",
    "        messagebox.showinfo('Error', 'No Task Selected. Cannot Delete.')     "
   ]
  },
  {
   "cell_type": "code",
   "execution_count": 6,
   "id": "246f10b6-ccc9-43ca-b451-348117185112",
   "metadata": {},
   "outputs": [],
   "source": [
    "# function to clear the list  \n",
    "def clear_list():  \n",
    "    task_listbox.delete(0, 'end')  "
   ]
  },
  {
   "cell_type": "code",
   "execution_count": 7,
   "id": "472b11b8-4dcd-49bf-8424-78595a4c149d",
   "metadata": {},
   "outputs": [],
   "source": [
    "# function to close the application  \n",
    "def close():  \n",
    "    print(tasks)  \n",
    "    guiWindow.destroy()  "
   ]
  },
  {
   "cell_type": "code",
   "execution_count": 9,
   "id": "9e6f15ec-ec9f-4ae4-8410-02528205f42e",
   "metadata": {},
   "outputs": [],
   "source": [
    "# function to retrieve data from the database  \n",
    "def retrieve_database():  \n",
    "    while(len(tasks) != 0):    \n",
    "        tasks.pop()  \n",
    "    for row in the_cursor.execute('select title from tasks'):  \n",
    "        tasks.append(row[0])  "
   ]
  },
  {
   "cell_type": "code",
   "execution_count": 22,
   "id": "824ddd71-dd5e-4290-a111-4f513e17b5f5",
   "metadata": {},
   "outputs": [
    {
     "name": "stdout",
     "output_type": "stream",
     "text": [
      "[]\n"
     ]
    }
   ],
   "source": [
    "# main function  \n",
    "if __name__ == \"__main__\":  \n",
    " \n",
    "    guiWindow = tk.Tk()   \n",
    "    guiWindow.title(\"Personal Task Manager\")   \n",
    "    guiWindow.geometry(\"500x450+750+250\")   \n",
    "    guiWindow.resizable(0, 0)   \n",
    "    guiWindow.configure(bg = \"#FFE4C4\")  \n",
    "  \n",
    "    the_connection = sql.connect('listOfTasks.db')   \n",
    "    the_cursor = the_connection.cursor()  \n",
    "    the_cursor.execute('create table if not exists tasks (title text)')  \n",
    "   \n",
    "    tasks = []  \n",
    "      \n",
    "    header_frame = tk.Frame(guiWindow, bg = \"#FAEBD7\")  \n",
    "    functions_frame = tk.Frame(guiWindow, bg = \"#FAEBD7\")  \n",
    "    listbox_frame = tk.Frame(guiWindow, bg = \"#FAEBD7\")  \n",
    "  \n",
    "    # using the pack() method to place the frames in the application  \n",
    "    header_frame.pack(fill = \"both\")  \n",
    "    functions_frame.pack(side = \"left\", expand = True, fill = \"both\")  \n",
    "    listbox_frame.pack(side = \"right\", expand = True, fill = \"both\")  \n",
    "    \n",
    "    # defining a label using the ttk.Label() widget  \n",
    "    header_label = ttk.Label(  \n",
    "        header_frame,  \n",
    "        text = \"Personal Task Manager\",  \n",
    "        font = (\"Helvetica\", \"20\"),  \n",
    "        background = \"#FAEBD7\",  \n",
    "        foreground = \"#8B4513\"  \n",
    "    )  \n",
    "    \n",
    "    # using the pack() method to place the label in the application  \n",
    "    header_label.pack(padx = 20, pady = 20)  \n",
    "  \n",
    "    # defining another label using the ttk.Label() widget  \n",
    "    task_label = ttk.Label(  \n",
    "        functions_frame,  \n",
    "        text = \"Enter the Task:\",  \n",
    "        font = (\"Helvetica\", \"11\", \"bold\"),  \n",
    "        background = \"#FAEBD7\",  \n",
    "        foreground = \"#000000\"  \n",
    "    )  \n",
    "    # using the place() method to place the label in the application  \n",
    "    task_label.place(x = 30, y = 40)  \n",
    "      \n",
    "    # defining an entry field using the ttk.Entry() widget  \n",
    "    task_field = ttk.Entry(  \n",
    "        functions_frame,  \n",
    "        font = (\"Helvetica\", \"12\"),  \n",
    "        width = 18,  \n",
    "        background = \"#FFF8DC\",  \n",
    "        foreground = \"#A52A2A\"  \n",
    "    )  \n",
    "    # using the place() method to place the entry field in the application  \n",
    "    task_field.place(x = 30, y = 80)  \n",
    "  \n",
    "    # adding buttons to the application using the ttk.Button() widget  \n",
    "    add_button = ttk.Button(  \n",
    "        functions_frame,  \n",
    "        text = \"Add Task\",  \n",
    "        width = 24,  \n",
    "        command = add_task  \n",
    "    )  \n",
    "    del_button = ttk.Button(  \n",
    "        functions_frame,  \n",
    "        text = \"Delete Task\",  \n",
    "        width = 24,  \n",
    "        command = delete_task  \n",
    "    )  \n",
    "   \n",
    "    exit_button = ttk.Button(  \n",
    "        functions_frame,  \n",
    "        text = \"Exit\",  \n",
    "        width = 24,  \n",
    "        command = close  \n",
    "    )  \n",
    "    # using the place() method to set the position of the buttons in the application  \n",
    "    add_button.place(x = 30, y = 120)  \n",
    "    del_button.place(x = 30, y = 160)    \n",
    "    exit_button.place(x = 30, y = 240)  \n",
    "  \n",
    "    # defining a list box using the tk.Listbox() widget  \n",
    "    task_listbox = tk.Listbox(  \n",
    "        listbox_frame,  \n",
    "        width = 26,  \n",
    "        height = 13,  \n",
    "        selectmode = 'SINGLE',  \n",
    "        background = \"#FFFFFF\",  \n",
    "        foreground = \"#000000\",  \n",
    "        selectbackground = \"#CD853F\",  \n",
    "        selectforeground = \"#FFFFFF\"  \n",
    "    )  \n",
    "    # using the place() method to place the list box in the application  \n",
    "    task_listbox.place(x = 10, y = 20)  \n",
    "  \n",
    "    # calling some functions  \n",
    "    retrieve_database()  \n",
    "    list_update()  \n",
    "    # using the mainloop() method to run the application  \n",
    "    guiWindow.mainloop()  \n",
    "    # establishing the connection with database  \n",
    "    the_connection.commit()  \n",
    "    the_cursor.close()  "
   ]
  },
  {
   "cell_type": "code",
   "execution_count": null,
   "id": "2df2d13e-4e16-4d97-8fb3-c0eeefe7775a",
   "metadata": {},
   "outputs": [],
   "source": []
  }
 ],
 "metadata": {
  "kernelspec": {
   "display_name": "Python 3 (ipykernel)",
   "language": "python",
   "name": "python3"
  },
  "language_info": {
   "codemirror_mode": {
    "name": "ipython",
    "version": 3
   },
   "file_extension": ".py",
   "mimetype": "text/x-python",
   "name": "python",
   "nbconvert_exporter": "python",
   "pygments_lexer": "ipython3",
   "version": "3.12.0"
  }
 },
 "nbformat": 4,
 "nbformat_minor": 5
}
